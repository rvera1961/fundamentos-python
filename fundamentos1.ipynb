{
 "cells": [
  {
   "cell_type": "markdown",
   "id": "b1f10f60",
   "metadata": {},
   "source": [
    "# Fundamentos de python"
   ]
  },
  {
   "cell_type": "markdown",
   "id": "2d6151fd",
   "metadata": {},
   "source": [
    "### Aspectos básicos\n",
    "* Variables\n",
    "* Operadores matemáticos básicos\n",
    "* Estructuras de control\n",
    "    - Condicionales\n",
    "    - Ciclos\n",
    "    - Funciones\n",
    "* Operadores de Comparación\n",
    "* Operaciones Lógicos\n",
    "* Estructuras de datos\n",
    "    - Cademas de caracteres\n",
    "    - Enteros\n",
    "    - Flotantes\n",
    "    - Listas\n",
    "    - Diccionarios\n",
    "    - Tuplas"
   ]
  },
  {
   "cell_type": "code",
   "execution_count": 17,
   "id": "f6f238d3",
   "metadata": {},
   "outputs": [
    {
     "name": "stdout",
     "output_type": "stream",
     "text": [
      "hola\n"
     ]
    }
   ],
   "source": [
    "print(\"hola\")"
   ]
  },
  {
   "cell_type": "code",
   "execution_count": 16,
   "id": "78572843",
   "metadata": {},
   "outputs": [],
   "source": [
    "# Variables\n",
    "name = \"Josefino\""
   ]
  },
  {
   "cell_type": "code",
   "execution_count": 3,
   "id": "bafdecca",
   "metadata": {},
   "outputs": [],
   "source": [
    "last_name = \"Primero\""
   ]
  },
  {
   "cell_type": "code",
   "execution_count": 4,
   "id": "4e7bd158",
   "metadata": {},
   "outputs": [
    {
     "data": {
      "text/plain": [
       "'Primero'"
      ]
     },
     "execution_count": 4,
     "metadata": {},
     "output_type": "execute_result"
    }
   ],
   "source": [
    "last_name "
   ]
  },
  {
   "cell_type": "code",
   "execution_count": 5,
   "id": "5bd74f09",
   "metadata": {},
   "outputs": [],
   "source": [
    "base = 25"
   ]
  },
  {
   "cell_type": "code",
   "execution_count": 18,
   "id": "00148e9f",
   "metadata": {},
   "outputs": [
    {
     "data": {
      "text/plain": [
       "30"
      ]
     },
     "execution_count": 18,
     "metadata": {},
     "output_type": "execute_result"
    }
   ],
   "source": [
    "# operadores matematicos\n",
    "# suma\n",
    "number1 = 10\n",
    "number2 = 20\n",
    "suma1 = number1 + number2\n",
    "suma1"
   ]
  },
  {
   "cell_type": "code",
   "execution_count": 7,
   "id": "6334e6c7",
   "metadata": {},
   "outputs": [
    {
     "data": {
      "text/plain": [
       "10"
      ]
     },
     "execution_count": 7,
     "metadata": {},
     "output_type": "execute_result"
    }
   ],
   "source": [
    "# resta\n",
    "resta = number2 - number1\n",
    "resta"
   ]
  },
  {
   "cell_type": "code",
   "execution_count": 8,
   "id": "71e719b6",
   "metadata": {},
   "outputs": [],
   "source": [
    "# multiplicacion\n",
    "multi = number1 * number2\n",
    "div = number1 / number2"
   ]
  },
  {
   "cell_type": "code",
   "execution_count": 9,
   "id": "9f7c9b41",
   "metadata": {},
   "outputs": [
    {
     "data": {
      "text/plain": [
       "0.5"
      ]
     },
     "execution_count": 9,
     "metadata": {},
     "output_type": "execute_result"
    }
   ],
   "source": [
    "multi\n",
    "div"
   ]
  },
  {
   "cell_type": "code",
   "execution_count": 10,
   "id": "b7e2c7c8",
   "metadata": {},
   "outputs": [
    {
     "name": "stdout",
     "output_type": "stream",
     "text": [
      "200\n",
      "0.5\n"
     ]
    }
   ],
   "source": [
    "print(multi)\n",
    "print(div)"
   ]
  },
  {
   "cell_type": "code",
   "execution_count": 11,
   "id": "45c10d67",
   "metadata": {},
   "outputs": [
    {
     "name": "stdout",
     "output_type": "stream",
     "text": [
      "El resultado de la multiplicacion es: 200\n",
      "El resultado de la division es: 0.5\n",
      "El resultado de la suma es: 30\n",
      "El resultado de la resta es: 10\n"
     ]
    }
   ],
   "source": [
    "print(f\"El resultado de la multiplicacion es: {multi}\")\n",
    "print(f\"El resultado de la division es: {div}\")\n",
    "print(f\"El resultado de la suma es: {suma1}\")\n",
    "print(f\"El resultado de la resta es: {resta}\")"
   ]
  },
  {
   "cell_type": "code",
   "execution_count": 12,
   "id": "54a730d0",
   "metadata": {},
   "outputs": [],
   "source": [
    "resta2 = 45 - 54"
   ]
  },
  {
   "cell_type": "code",
   "execution_count": 13,
   "id": "904a0e71",
   "metadata": {},
   "outputs": [
    {
     "data": {
      "text/plain": [
       "float"
      ]
     },
     "execution_count": 13,
     "metadata": {},
     "output_type": "execute_result"
    }
   ],
   "source": [
    "type(div)\n"
   ]
  },
  {
   "cell_type": "code",
   "execution_count": 14,
   "id": "7a4dedfb",
   "metadata": {},
   "outputs": [
    {
     "data": {
      "text/plain": [
       "int"
      ]
     },
     "execution_count": 14,
     "metadata": {},
     "output_type": "execute_result"
    }
   ],
   "source": [
    "type(resta2)"
   ]
  },
  {
   "cell_type": "code",
   "execution_count": 15,
   "id": "bd0f3605",
   "metadata": {},
   "outputs": [
    {
     "data": {
      "text/plain": [
       "str"
      ]
     },
     "execution_count": 15,
     "metadata": {},
     "output_type": "execute_result"
    }
   ],
   "source": [
    "type(name)"
   ]
  },
  {
   "cell_type": "markdown",
   "id": "ac1536e3",
   "metadata": {},
   "source": [
    "## Condicionales ."
   ]
  },
  {
   "cell_type": "code",
   "execution_count": null,
   "id": "95e52d92",
   "metadata": {},
   "outputs": [],
   "source": []
  },
  {
   "cell_type": "markdown",
   "id": "8d38a91f",
   "metadata": {},
   "source": [
    "### nueva rama"
   ]
  }
 ],
 "metadata": {
  "kernelspec": {
   "display_name": "Python 3",
   "language": "python",
   "name": "python3"
  },
  "language_info": {
   "codemirror_mode": {
    "name": "ipython",
    "version": 3
   },
   "file_extension": ".py",
   "mimetype": "text/x-python",
   "name": "python",
   "nbconvert_exporter": "python",
   "pygments_lexer": "ipython3",
   "version": "3.13.4"
  }
 },
 "nbformat": 4,
 "nbformat_minor": 5
}
