{
 "cells": [
  {
   "cell_type": "markdown",
   "id": "b1f10f60",
   "metadata": {},
   "source": [
    "# Fundamentos de python"
   ]
  },
  {
   "cell_type": "markdown",
   "id": "2d6151fd",
   "metadata": {},
   "source": [
    "### Aspectos básicos\n",
    "* Variables\n",
    "* Operadores matemáticos básicos\n",
    "* Estructuras de control\n",
    "    - Condicionales\n",
    "    - Ciclos\n",
    "    - Funciones\n",
    "* Operadores de Comparación\n",
    "* Operaciones Lógicos\n",
    "* Estructuras de datos\n",
    "    - Cademas de caracteres\n",
    "    - Enteros\n",
    "    - Flotantes\n",
    "    - Listas\n",
    "    - Diccionarios\n",
    "    - Tuplas"
   ]
  },
  {
   "cell_type": "code",
   "execution_count": 2,
   "id": "f6f238d3",
   "metadata": {},
   "outputs": [
    {
     "name": "stdout",
     "output_type": "stream",
     "text": [
      "hola\n"
     ]
    }
   ],
   "source": [
    "print(\"hola\")"
   ]
  },
  {
   "cell_type": "code",
   "execution_count": 3,
   "id": "78572843",
   "metadata": {},
   "outputs": [],
   "source": [
    "# Variables\n",
    "name = \"Josefino\""
   ]
  },
  {
   "cell_type": "code",
   "execution_count": 4,
   "id": "bafdecca",
   "metadata": {},
   "outputs": [],
   "source": [
    "last_name = \"Primero\""
   ]
  },
  {
   "cell_type": "code",
   "execution_count": 5,
   "id": "4e7bd158",
   "metadata": {},
   "outputs": [
    {
     "data": {
      "text/plain": [
       "'Primero'"
      ]
     },
     "execution_count": 5,
     "metadata": {},
     "output_type": "execute_result"
    }
   ],
   "source": [
    "last_name "
   ]
  },
  {
   "cell_type": "code",
   "execution_count": 6,
   "id": "5bd74f09",
   "metadata": {},
   "outputs": [],
   "source": [
    "base = 25"
   ]
  },
  {
   "cell_type": "code",
   "execution_count": 7,
   "id": "00148e9f",
   "metadata": {},
   "outputs": [
    {
     "data": {
      "text/plain": [
       "30"
      ]
     },
     "execution_count": 7,
     "metadata": {},
     "output_type": "execute_result"
    }
   ],
   "source": [
    "# operadores matematicos\n",
    "# suma\n",
    "number1 = 10\n",
    "number2 = 20\n",
    "suma1 = number1 + number2\n",
    "suma1"
   ]
  },
  {
   "cell_type": "code",
   "execution_count": 8,
   "id": "6334e6c7",
   "metadata": {},
   "outputs": [
    {
     "data": {
      "text/plain": [
       "10"
      ]
     },
     "execution_count": 8,
     "metadata": {},
     "output_type": "execute_result"
    }
   ],
   "source": [
    "# resta\n",
    "resta = number2 - number1\n",
    "resta"
   ]
  },
  {
   "cell_type": "code",
   "execution_count": 9,
   "id": "71e719b6",
   "metadata": {},
   "outputs": [],
   "source": [
    "# multiplicacion\n",
    "multi = number1 * number2\n",
    "div = number1 / number2"
   ]
  },
  {
   "cell_type": "code",
   "execution_count": 10,
   "id": "9f7c9b41",
   "metadata": {},
   "outputs": [
    {
     "data": {
      "text/plain": [
       "0.5"
      ]
     },
     "execution_count": 10,
     "metadata": {},
     "output_type": "execute_result"
    }
   ],
   "source": [
    "multi\n",
    "div"
   ]
  },
  {
   "cell_type": "code",
   "execution_count": 11,
   "id": "b7e2c7c8",
   "metadata": {},
   "outputs": [
    {
     "name": "stdout",
     "output_type": "stream",
     "text": [
      "200\n",
      "0.5\n"
     ]
    }
   ],
   "source": [
    "print(multi)\n",
    "print(div)"
   ]
  },
  {
   "cell_type": "code",
   "execution_count": 12,
   "id": "45c10d67",
   "metadata": {},
   "outputs": [
    {
     "name": "stdout",
     "output_type": "stream",
     "text": [
      "El resultado de la multiplicacion es: 200\n",
      "El resultado de la division es: 0.5\n",
      "El resultado de la suma es: 30\n",
      "El resultado de la resta es: 10\n"
     ]
    }
   ],
   "source": [
    "print(f\"El resultado de la multiplicacion es: {multi}\")\n",
    "print(f\"El resultado de la division es: {div}\")\n",
    "print(f\"El resultado de la suma es: {suma1}\")\n",
    "print(f\"El resultado de la resta es: {resta}\")"
   ]
  },
  {
   "cell_type": "code",
   "execution_count": 13,
   "id": "54a730d0",
   "metadata": {},
   "outputs": [],
   "source": [
    "resta2 = 45 - 54"
   ]
  },
  {
   "cell_type": "code",
   "execution_count": 14,
   "id": "904a0e71",
   "metadata": {},
   "outputs": [
    {
     "data": {
      "text/plain": [
       "float"
      ]
     },
     "execution_count": 14,
     "metadata": {},
     "output_type": "execute_result"
    }
   ],
   "source": [
    "type(div)\n"
   ]
  },
  {
   "cell_type": "code",
   "execution_count": 15,
   "id": "7a4dedfb",
   "metadata": {},
   "outputs": [
    {
     "data": {
      "text/plain": [
       "int"
      ]
     },
     "execution_count": 15,
     "metadata": {},
     "output_type": "execute_result"
    }
   ],
   "source": [
    "type(resta2)"
   ]
  },
  {
   "cell_type": "code",
   "execution_count": 16,
   "id": "bd0f3605",
   "metadata": {},
   "outputs": [
    {
     "data": {
      "text/plain": [
       "str"
      ]
     },
     "execution_count": 16,
     "metadata": {},
     "output_type": "execute_result"
    }
   ],
   "source": [
    "type(name)"
   ]
  },
  {
   "cell_type": "markdown",
   "id": "ac1536e3",
   "metadata": {},
   "source": [
    "## Condicionales ."
   ]
  },
  {
   "cell_type": "code",
   "execution_count": 17,
   "id": "95e52d92",
   "metadata": {},
   "outputs": [
    {
     "name": "stdout",
     "output_type": "stream",
     "text": [
      "confirmar nueva rama\n"
     ]
    }
   ],
   "source": [
    "print(\"confirmar nueva rama\" )"
   ]
  },
  {
   "cell_type": "markdown",
   "id": "e1ba8083",
   "metadata": {},
   "source": [
    "# Condicionales Simples\n",
    "# If condicion: \n",
    "#    accion "
   ]
  },
  {
   "cell_type": "markdown",
   "id": "a999bd1e",
   "metadata": {},
   "source": [
    "# Operadores de comparación \n",
    "# == igual\n",
    "# != diferente\n",
    "# > mayor que\n",
    "# < menor que\n",
    "# >= mayor igual que\n",
    "# <= menor igual que\n"
   ]
  },
  {
   "cell_type": "code",
   "execution_count": 6,
   "id": "488be6bc",
   "metadata": {},
   "outputs": [
    {
     "name": "stdout",
     "output_type": "stream",
     "text": [
      "el numero 1 es igual que el numero 2\n"
     ]
    }
   ],
   "source": [
    "# comparacion de dos numeros\n",
    "number1 = 10\n",
    "number2 = 10\n",
    "\n",
    "# condicionales anidados\n",
    "if (number1 == number2): \n",
    "    #if (number1 != number2):\n",
    "        print(\"el numero 1 es igual que el numero 2\")\n",
    "        #print(\"Los numeros son diferentes\")"
   ]
  },
  {
   "cell_type": "code",
   "execution_count": 7,
   "id": "bde9b278",
   "metadata": {},
   "outputs": [
    {
     "name": "stdout",
     "output_type": "stream",
     "text": [
      "el numero 1 es menor que el numero 2\n",
      "Los numeros son diferentes\n"
     ]
    }
   ],
   "source": [
    "# comparacion de dos numeros\n",
    "number1 = 10\n",
    "number2 = 20\n",
    "\n",
    "# condicionales anidados\n",
    "if (number1 < number2) and (number1 != number2):\n",
    "    print(\"el numero 1 es menor que el numero 2\")\n",
    "    print(\"Los numeros son diferentes\")\n"
   ]
  },
  {
   "cell_type": "code",
   "execution_count": 9,
   "id": "256ef8de",
   "metadata": {},
   "outputs": [
    {
     "name": "stdout",
     "output_type": "stream",
     "text": [
      "el numero 1 es menor que el numero 2\n",
      "Los Numeros son diferentes\n"
     ]
    }
   ],
   "source": [
    "# comparacion de dos numeros\n",
    "number1 = 10\n",
    "number2 = 20\n",
    "\n",
    "# condicionales anidados\n",
    "if (number1 < number2):\n",
    "        if (number1 != number2):\n",
    "            print(\"el numero 1 es menor que el numero 2\")\n",
    "            print(\"Los Numeros son diferentes\")"
   ]
  },
  {
   "cell_type": "code",
   "execution_count": 12,
   "id": "2f9797f6",
   "metadata": {},
   "outputs": [
    {
     "name": "stdout",
     "output_type": "stream",
     "text": [
      "el numero 1 no es menor que el numero 2\n"
     ]
    }
   ],
   "source": [
    "# comparacion de dos numeros\n",
    "number1 = 20\n",
    "number2 = 20\n",
    "\n",
    "# condicionales anidados\n",
    "if (number1 < number2):\n",
    "        print(\"el numero 1 es menor que el numero 2\")\n",
    "\n",
    "        if (number1 < 10):\n",
    "            print(\"Numero 1 mayor que 10\")\n",
    "        else:\n",
    "            print(\"el numero 1 no es menor que 10\")\n",
    "            #print(\"Numero 1 menor que 10\")\n",
    "else:\n",
    "    print(\"el numero 1 no es menor que el numero 2\")\n",
    "    "
   ]
  },
  {
   "cell_type": "code",
   "execution_count": 13,
   "id": "dc33837f",
   "metadata": {},
   "outputs": [
    {
     "name": "stdout",
     "output_type": "stream",
     "text": [
      "Hoy es lunes trabajo y estudio\n"
     ]
    }
   ],
   "source": [
    "# condicionales encadenados\n",
    "# comparacion dias de la semana hasta ubicar el lunes   \n",
    "day = \"Lunes\"\n",
    "if day == \"Lunes\":\n",
    "    print(\"Hoy es lunes trabajo y estudio\")\n",
    "elif day == \"Martes\":\n",
    "    print(\"Hoy es martes y trabajo duro\")\n",
    "elif day == \"Miercoles\":\n",
    "    print(\"Hoy es miercoles y estudio\")\n",
    "elif day == \"Jueves\":\n",
    "    print(\"Hoy es jueves y estudio\")\n",
    "elif day == \"Viernes\":\n",
    "    print(\"Hoy es viernes y estudio\")   \n",
    "elif day == \"Sabado\":\n",
    "    print(\"Hoy es sabado y descanso\")\n",
    "elif day == \"Domingo\":\n",
    "    print(\"Hoy es domingo y descanso\")\n",
    "else:\n",
    "    print(\"No es un dia de la semana valido\")\n"
   ]
  },
  {
   "cell_type": "code",
   "execution_count": null,
   "id": "fae5edb2",
   "metadata": {},
   "outputs": [],
   "source": [
    "#Estructuras de datos\n",
    "# Listas\n",
    "# lista son colleciones de datos que pueden ser de diferentes tipos\n",
    "name_list = [\"Josefino\", \"Primero\", \"Segundo\", 25, 30.5, True, False]"
   ]
  },
  {
   "cell_type": "code",
   "execution_count": 30,
   "id": "b050c214",
   "metadata": {},
   "outputs": [
    {
     "data": {
      "text/plain": [
       "['Josefino', 'Primero', 'Segundo', 25, 30.5, True, False]"
      ]
     },
     "execution_count": 30,
     "metadata": {},
     "output_type": "execute_result"
    }
   ],
   "source": [
    "name_list"
   ]
  },
  {
   "cell_type": "code",
   "execution_count": 17,
   "id": "53a07653",
   "metadata": {},
   "outputs": [],
   "source": [
    "name_list2 = [\n",
    "            \"Josefino\",\n",
    "            \"Primero\",\n",
    "            \"Segundo\",\n",
    "            \"tercero\",\n",
    "            \"cuarto\",\n",
    "            ]              "
   ]
  },
  {
   "cell_type": "code",
   "execution_count": 34,
   "id": "33ec77b9",
   "metadata": {},
   "outputs": [
    {
     "data": {
      "text/plain": [
       "['Josefino', 'Primero', 'Segundotercerp', 'cuarto']"
      ]
     },
     "execution_count": 34,
     "metadata": {},
     "output_type": "execute_result"
    }
   ],
   "source": [
    "name_list2\n"
   ]
  },
  {
   "cell_type": "code",
   "execution_count": null,
   "id": "2a36ddad",
   "metadata": {},
   "outputs": [],
   "source": [
    "# Indices de las listas\n",
    "# 0 1 2 3 4 5\n",
    "\n",
    "#    0          1           2          3            4    de izquierda a derecha desde el primero al ultimo\n",
    "#   -5          -4          -3          -2          -1   de derecha a izquierda desde el ultimo alprimero\n",
    "#  [\"Josefino\", \"Primero\", \"Segundo\", \"tercero\", \"cuarto\"]"
   ]
  },
  {
   "cell_type": "code",
   "execution_count": 18,
   "id": "61715cf1",
   "metadata": {},
   "outputs": [
    {
     "data": {
      "text/plain": [
       "'Josefino'"
      ]
     },
     "execution_count": 18,
     "metadata": {},
     "output_type": "execute_result"
    }
   ],
   "source": [
    "name_list2[0]\n"
   ]
  },
  {
   "cell_type": "code",
   "execution_count": 19,
   "id": "b65b2154",
   "metadata": {},
   "outputs": [
    {
     "data": {
      "text/plain": [
       "'cuarto'"
      ]
     },
     "execution_count": 19,
     "metadata": {},
     "output_type": "execute_result"
    }
   ],
   "source": [
    "name_list2[-1]"
   ]
  },
  {
   "cell_type": "code",
   "execution_count": 39,
   "id": "2982da69",
   "metadata": {},
   "outputs": [
    {
     "data": {
      "text/plain": [
       "['Josefino', 'Primero', 'Segundo']"
      ]
     },
     "execution_count": 39,
     "metadata": {},
     "output_type": "execute_result"
    }
   ],
   "source": [
    "name_list2[0:3]"
   ]
  },
  {
   "cell_type": "code",
   "execution_count": null,
   "id": "b2f130d7",
   "metadata": {},
   "outputs": [],
   "source": [
    "# metedos de las listas\n",
    "# append() agrega un elemento al final de la lista\n",
    "name_list2.append(\"quinto\")\n"
   ]
  },
  {
   "cell_type": "code",
   "execution_count": 41,
   "id": "c141888a",
   "metadata": {},
   "outputs": [
    {
     "data": {
      "text/plain": [
       "6"
      ]
     },
     "execution_count": 41,
     "metadata": {},
     "output_type": "execute_result"
    }
   ],
   "source": [
    "len(name_list2)"
   ]
  },
  {
   "cell_type": "code",
   "execution_count": null,
   "id": "60da1218",
   "metadata": {},
   "outputs": [],
   "source": [
    "# metodos de las listas\n",
    "name_list2."
   ]
  },
  {
   "cell_type": "code",
   "execution_count": null,
   "id": "1ad474d3",
   "metadata": {},
   "outputs": [],
   "source": [
    "# ciclos finitos    \n"
   ]
  }
 ],
 "metadata": {
  "kernelspec": {
   "display_name": "Python 3",
   "language": "python",
   "name": "python3"
  },
  "language_info": {
   "codemirror_mode": {
    "name": "ipython",
    "version": 3
   },
   "file_extension": ".py",
   "mimetype": "text/x-python",
   "name": "python",
   "nbconvert_exporter": "python",
   "pygments_lexer": "ipython3",
   "version": "3.13.5"
  }
 },
 "nbformat": 4,
 "nbformat_minor": 5
}
